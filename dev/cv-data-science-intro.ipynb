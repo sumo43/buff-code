{
 "cells": [
  {
   "cell_type": "markdown",
   "metadata": {},
   "source": [
    "# Image Processing\n",
    "\n",
    "this notebook is used to test and design functions for the vision pipeline. It it currently based on building basic pipeline functionalities: capture images, load data, parse data, save data and display data. Changes to buffpy will require restarting the kernel.\n",
    "\n",
    "A quick note, this notebook is as imperfect as its author and may not include essential explanations. You will get the most out of this notebook if you spend time understanding each line in each cell. A great programmer will know how to break things by the end (not that you should). The best way for me to learn code is to add comments, thats why I intentionally left them out. By the end of this notebook the opencv and matplotlib docs will be your bestfriend."
   ]
  },
  {
   "cell_type": "markdown",
   "metadata": {},
   "source": [
    "The first cell is dedicated to importing everything we need. If you need imports in cells at the bottom of the page they should still be added here (keeping all our imports together)."
   ]
  },
  {
   "cell_type": "code",
   "execution_count": 1,
   "metadata": {},
   "outputs": [
    {
     "name": "stdout",
     "output_type": "stream",
     "text": [
      "Your browser has been opened to visit:\n",
      "\n",
      "    https://accounts.google.com/o/oauth2/auth?client_id=204533085485-off69rksfm0coeohbtsg81p5dsfpnfhl.apps.googleusercontent.com&redirect_uri=http%3A%2F%2Flocalhost%3A8080%2F&scope=https%3A%2F%2Fwww.googleapis.com%2Fauth%2Fdrive&access_type=offline&response_type=code\n",
      "\n",
      "Authentication successful.\n"
     ]
    }
   ],
   "source": [
    "import os\n",
    "import cv2\n",
    "import glob\n",
    "import numpy as np\n",
    "import matplotlib.pyplot as plt\n",
    "import xml.etree.ElementTree as ET\n",
    "from gdrive_handler import GD_Handler\n",
    "\n",
    "gd_handler = GD_Handler() # only need one for the whole notebook so initialize here\n",
    "\n",
    "ANNOTATION_COLOR=(0,255,0)    # this value is a const throughout the notebook and will not change so we define it here also\n",
    "ANNOTATION_THICKNESS=2"
   ]
  },
  {
   "cell_type": "markdown",
   "metadata": {},
   "source": [
    "The purpose of this notebook is to demonstrate the process of developing our code. The first goal of this pipeline is capturing an image and uploading this image to a development machine or the cloud. This is all done on the bot and will not be in this notebook (this is done with buffpy). The next step after collecting data is to process that data. This notebook will walk through how to load images and labels and then tune algorithms to simulate perception. "
   ]
  },
  {
   "cell_type": "code",
   "execution_count": 3,
   "metadata": {},
   "outputs": [
    {
     "name": "stdout",
     "output_type": "stream",
     "text": [
      "GDrive handler Downloading from 1wAyKEnpN08ye2Qgb4MXyWNpu0xXzHI-Y\n",
      "GDrive handler Downloading yogimus.jpg...\n",
      "GDrive handler Downloading from 1GRfBkk7SycV7xFELDaz8ANeXo2yZ9BaR\n",
      "GDrive handler Downloading 985.xml...\n",
      "GDrive handler Downloading 984.xml...\n",
      "GDrive handler Downloading 983.xml...\n",
      "GDrive handler Downloading 982.xml...\n",
      "GDrive handler Downloading 981.xml...\n",
      "GDrive handler Downloading 979.xml...\n",
      "GDrive handler Downloading 978.xml...\n",
      "GDrive handler Downloading 977.xml...\n",
      "GDrive handler Downloading 976.xml...\n",
      "GDrive handler Downloading 975.xml...\n",
      "GDrive handler Downloading 974.xml...\n",
      "GDrive handler Downloading 973.xml...\n",
      "GDrive handler Downloading 972.xml...\n",
      "GDrive handler Downloading 971.xml...\n",
      "GDrive handler Downloading 970.xml...\n",
      "GDrive handler Downloading 969.xml...\n",
      "GDrive handler Downloading 968.xml...\n",
      "GDrive handler Downloading 967.xml...\n",
      "GDrive handler Downloading 966.xml...\n",
      "GDrive handler Downloading 965.xml...\n",
      "GDrive handler Downloading 964.xml...\n",
      "GDrive handler Downloading 963.xml...\n",
      "GDrive handler Downloading 962.xml...\n",
      "GDrive handler Downloading 961.xml...\n",
      "GDrive handler Downloading 960.xml...\n",
      "GDrive handler Downloading 959.xml...\n",
      "GDrive handler Downloading 958.xml...\n",
      "GDrive handler Downloading 957.xml...\n",
      "GDrive handler Downloading 956.xml...\n",
      "GDrive handler Downloading 955.xml...\n",
      "GDrive handler Downloading 954.xml...\n",
      "GDrive handler Downloading 953.xml...\n",
      "GDrive handler Downloading 952.xml...\n",
      "GDrive handler Downloading 951.xml...\n",
      "GDrive handler Downloading 980.xml...\n",
      "GDrive handler Downloading 950.xml...\n",
      "GDrive handler Downloading 973.jpg...\n",
      "GDrive handler Downloading 968.jpg...\n",
      "GDrive handler Downloading 953.jpg...\n",
      "GDrive handler Downloading 957.jpg...\n",
      "GDrive handler Downloading 956.jpg...\n",
      "GDrive handler Downloading 967.jpg...\n",
      "GDrive handler Downloading 980.jpg...\n",
      "GDrive handler Downloading 970.jpg...\n",
      "GDrive handler Downloading 952.jpg...\n",
      "GDrive handler Downloading 960.jpg...\n",
      "GDrive handler Downloading 955.jpg...\n",
      "GDrive handler Downloading 963.jpg...\n",
      "GDrive handler Downloading 979.jpg...\n",
      "GDrive handler Downloading 976.jpg...\n",
      "GDrive handler Downloading 959.jpg...\n",
      "GDrive handler Downloading 978.jpg...\n",
      "GDrive handler Downloading 975.jpg...\n",
      "GDrive handler Downloading 950.jpg...\n",
      "GDrive handler Downloading 966.jpg...\n",
      "GDrive handler Downloading 983.jpg...\n",
      "GDrive handler Downloading 974.jpg...\n",
      "GDrive handler Downloading 985.jpg...\n",
      "GDrive handler Downloading 951.jpg...\n",
      "GDrive handler Downloading 962.jpg...\n",
      "GDrive handler Downloading 958.jpg...\n",
      "GDrive handler Downloading 954.jpg...\n",
      "GDrive handler Downloading 965.jpg...\n",
      "GDrive handler Downloading 977.jpg...\n",
      "GDrive handler Downloading 961.jpg...\n",
      "GDrive handler Downloading 972.jpg...\n",
      "GDrive handler Downloading 964.jpg...\n",
      "GDrive handler Downloading 969.jpg...\n",
      "GDrive handler Downloading 984.jpg...\n",
      "GDrive handler Downloading 971.jpg...\n",
      "GDrive handler Downloading 981.jpg...\n",
      "GDrive handler Downloading 982.jpg...\n"
     ]
    }
   ],
   "source": [
    "gd_handler.downloadBatch('Yogi')\n",
    "gd_handler.downloadBatch('Batch20') # download the Batch20 data"
   ]
  },
  {
   "cell_type": "markdown",
   "metadata": {},
   "source": [
    "Here is an example of loading an image from the cloud."
   ]
  },
  {
   "cell_type": "code",
   "execution_count": 4,
   "metadata": {},
   "outputs": [],
   "source": [
    "yogi = cv2.imread('../data/yogimus.jpg')\n",
    "#cv2.imshow('sample', yogi)\n",
    "#cv2.waitKey(0)\n",
    "#cv2.destroyAllWindows()"
   ]
  },
  {
   "cell_type": "markdown",
   "metadata": {},
   "source": [
    "gd_handle will make using and administrating a database easy. Using the CU-Robotics google drive the handler will download batches into a temp data folder (which should be cleared when you aren't using it). TTry running the cell above a few times. The GD_Handler will also allow you to push data back to google drive (be careful with this!)."
   ]
  },
  {
   "cell_type": "markdown",
   "metadata": {},
   "source": [
    "Next is an example of using  glob to load a batch of images from our data folder"
   ]
  },
  {
   "cell_type": "code",
   "execution_count": 5,
   "metadata": {},
   "outputs": [
    {
     "name": "stdout",
     "output_type": "stream",
     "text": [
      "Number of Images 37\n"
     ]
    }
   ],
   "source": [
    "filenames = glob.glob('../data/*.jpg')\n",
    "images = [cv2.imread(file) for file in filenames]\n",
    "print(f'Number of Images {len(images)}')\n",
    "#cv2.imshow('image0', images[0])\n",
    "#cv2.waitKey(0)\n",
    "#cv2.destroyAllWindows()"
   ]
  },
  {
   "cell_type": "markdown",
   "metadata": {},
   "source": [
    "You might notice the same three lines used over and over to display single images. Here we will make a quick display function to reduce the line count."
   ]
  },
  {
   "cell_type": "code",
   "execution_count": 6,
   "metadata": {},
   "outputs": [],
   "source": [
    "def buffshow(title, image, wait=0):\n",
    "    cv2.imshow(title, image)\n",
    "    cv2.waitKey(wait)\n",
    "    cv2.destroyAllWindows()\n",
    "\n",
    "#buffshow('image0', images[0])"
   ]
  },
  {
   "cell_type": "markdown",
   "metadata": {},
   "source": [
    "The next function will read in the xml labels that pair with our data. "
   ]
  },
  {
   "cell_type": "code",
   "execution_count": 7,
   "metadata": {},
   "outputs": [
    {
     "name": "stdout",
     "output_type": "stream",
     "text": [
      "Number of Labels 36\n",
      "<xml.etree.ElementTree.ElementTree object at 0x110340730>\n"
     ]
    }
   ],
   "source": [
    "filenames = glob.glob('../data/*.xml')\n",
    "labels = [ET.parse(file) for file in filenames]\n",
    "print(f'Number of Labels {len(labels)}')\n",
    "print(labels[0])"
   ]
  },
  {
   "cell_type": "markdown",
   "metadata": {},
   "source": [
    "Lets take a closer look at the label objects we just created. Take a note of the way we print out the elements."
   ]
  },
  {
   "cell_type": "code",
   "execution_count": 8,
   "metadata": {},
   "outputs": [
    {
     "name": "stdout",
     "output_type": "stream",
     "text": [
      "annotation {}\n",
      "folder {} batch20\n",
      "filename {} 968.jpg\n",
      "path {} C:\\Users\\isaac\\dataset\\batch20\\968.jpg\n",
      "source {} \n",
      "\t\t\n",
      "\t database {} Unknown\n",
      "size {} \n",
      "\t\t\n",
      "\t width {} 640\n",
      "\t height {} 360\n",
      "\t depth {} 3\n",
      "segmented {} 0\n",
      "object {} \n",
      "\t\t\n",
      "\t name {} armor\n",
      "\t pose {} Unspecified\n",
      "\t truncated {} 0\n",
      "\t difficult {} 0\n",
      "\t bndbox {} \n",
      "\t\t\t\n",
      "\t\t xmin {} 292\n",
      "\t\t ymin {} 147\n",
      "\t\t xmax {} 391\n",
      "\t\t ymax {} 203\n"
     ]
    }
   ],
   "source": [
    "root = labels[5].getroot()\n",
    "print(root.tag, root.attrib)\n",
    "\n",
    "for i in range(len(root)):\n",
    "    print(root[i].tag, root[i].attrib, root[i].text)\n",
    "    for j in range(len(root[i])):\n",
    "        print(f'\\t', root[i][j].tag, root[i][j].attrib, root[i][j].text)\n",
    "        for k in range(len(root[i][j])):\n",
    "            print(f'\\t\\t', root[i][j][k].tag, root[i][j][k].attrib, root[i][j][k].text)"
   ]
  },
  {
   "cell_type": "markdown",
   "metadata": {},
   "source": [
    "here we will try to display an image with annotations. The annotations will be the bounding box defined by the images label. Above we can see that these are stored under the object/bndbox so we'll need to access these elements before the values."
   ]
  },
  {
   "cell_type": "code",
   "execution_count": 9,
   "metadata": {},
   "outputs": [
    {
     "name": "stdout",
     "output_type": "stream",
     "text": [
      "[[(165, 86), (202, 148)], [(261, 116), (347, 169)], [(396, 196), (426, 250)], [(484, 197), (535, 243)]]\n"
     ]
    }
   ],
   "source": [
    "def get_bounding_from_label(label):\n",
    "    bounds = []\n",
    "    boundingboxes = label.findall('object')\n",
    "    for boundary in boundingboxes:\n",
    "        bound = boundary.find('bndbox')\n",
    "        xmin = int(bound.find('xmin').text)\n",
    "        ymin = int(bound.find('ymin').text)\n",
    "        xmax = int(bound.find('xmax').text)\n",
    "        ymax = int(bound.find('ymax').text)\n",
    "        bounds.append([(xmin, ymin), (xmax, ymax)])\n",
    "    return bounds\n",
    "        \n",
    "bounds = get_bounding_from_label(labels[0])\n",
    "print(bounds)    "
   ]
  },
  {
   "cell_type": "code",
   "execution_count": 10,
   "metadata": {},
   "outputs": [],
   "source": [
    "def display_annotated_raw(data_point):\n",
    "    image, label = data_point\n",
    "    bounds = get_bounding_from_label(label)\n",
    "    for bound in bounds:\n",
    "        image = cv2.rectangle(image, bound[0], bound[1], ANNOTATION_COLOR, ANNOTATION_THICKNESS)\n",
    "        \n",
    "    buffshow('annotated', image)\n",
    "\n",
    "#for i in range(0,5): # try adjusting 0 and 5\n",
    "    #display_annotated_raw((images[i], labels[i]))"
   ]
  },
  {
   "cell_type": "markdown",
   "metadata": {},
   "source": [
    "The data and labels will need to align for our dataset to be valid. Meaning each image needs a label. Keeping our modular approach to development we will create a few functions to handle this. The idea is that we write generic functions that could be used in as many aplications as possible (the higher level the function the harder this is). "
   ]
  },
  {
   "cell_type": "code",
   "execution_count": 11,
   "metadata": {},
   "outputs": [
    {
     "name": "stdout",
     "output_type": "stream",
     "text": [
      "mismatched: images 37 != labels 36\n",
      "Number of data points: 36\n"
     ]
    }
   ],
   "source": [
    "def load_images(path):\n",
    "    filenames = glob.glob(path)\n",
    "    return [(file.split('/')[-1], cv2.imread(file)) for file in filenames] # by saving the image with its filename we can properly match it to the data\n",
    "\n",
    "def load_labels(path):\n",
    "    filenames = glob.glob(path)\n",
    "    return [ET.parse(file) for file in filenames]\n",
    "\n",
    "def get_image_file_from_label(label):\n",
    "    return label.find('filename').text\n",
    "    \n",
    "def load_data(path='../data'):\n",
    "    images = load_images(os.path.join(path, '*.jpg'))\n",
    "    labels = load_labels(os.path.join(path, '*.xml'))\n",
    "    if len(images) - len(labels):\n",
    "        print(f'mismatched: images {len(images)} != labels {len(labels)}')\n",
    "        \n",
    "    data = []\n",
    "    for label in labels:\n",
    "        file = get_image_file_from_label(label)\n",
    "        for image in images:\n",
    "            if image[0] == file:\n",
    "                data.append((image[1], get_bounding_from_label(label)))\n",
    "                \n",
    "    return data\n",
    "\n",
    "def display_annotated(data):\n",
    "    image, bounds = data\n",
    "    for bound in bounds:\n",
    "        image = cv2.rectangle(image, bound[0], bound[1], ANNOTATION_COLOR, ANNOTATION_THICKNESS)\n",
    "        \n",
    "    buffshow('annotated', image)\n",
    "    \n",
    "\n",
    "data = load_data()\n",
    "print(f'Number of data points: {len(data)}')\n",
    "#display_annotated(data[0])"
   ]
  },
  {
   "cell_type": "markdown",
   "metadata": {},
   "source": [
    "A good thing to notice at this point is the complexity of our program. With N images and M labels we read a file N + M times. We also iterate through the labels and images to find their matches, this takes N * M cycles. So overall we end up with N + M +(N * M). This is really bad for a simple data loader. The reason we develop in the notebook is so we can easily see these things and fix them before pushing to buff-code. Think of this as a sandbox to show what kind of sand castle you can build, before we build it for real.\n",
    "\n",
    "Potential Optimzation: As we read labels we extract the file it pairs with and then read the image, if any labels have a null or missing image throw them out.\n",
    "\n",
    "We took a filepath to some data set, loaded the data and then displayed a visual. Since I'm lazy we are actually going to have the computer analyze the data set and tell us any interesting or notable things about it.\n",
    "\n",
    "What should we look at?\n",
    "  - size of the data set\n",
    "  - center point of bounding boxes, where do they occur the most\n",
    "  - size of bounding boxes, proportional to the distance\n",
    "  - targets per image\n"
   ]
  },
  {
   "cell_type": "code",
   "execution_count": 12,
   "metadata": {},
   "outputs": [
    {
     "data": {
      "image/png": "[encoded data removed]",
      "text/plain": [
       "<Figure size 1080x576 with 3 Axes>"
      ]
     },
     "metadata": {
      "needs_background": "light"
     },
     "output_type": "display_data"
    }
   ],
   "source": [
    "def parse_data(data):\n",
    "    box_size = []\n",
    "    n_targets = []\n",
    "    center_x = []\n",
    "    center_y = []\n",
    "    for i,(image, label) in enumerate(data):\n",
    "            n = 0\n",
    "            for (x1,y1),(x2,y2) in label:\n",
    "                n += 1\n",
    "                h = np.abs(y2 - y1)\n",
    "                w = np.abs(x2 - x1)\n",
    "                box_size.append(w * h)\n",
    "                center_x.append(x1 + int(w/2))\n",
    "                center_y.append(y1 + int(h/2))\n",
    "            n_targets.append(n)\n",
    "            \n",
    "    return box_size, n_targets, center_x, center_y\n",
    "\n",
    "def analyze_data(data):\n",
    "    s, n, cx, cy = parse_data(data)\n",
    "    fig, axes = plt.subplots(1, 3, figsize=(15, 8), tight_layout=True)\n",
    "    axes[0].hist(n, bins=10)\n",
    "    axes[0].set_title('Number of targets')\n",
    "    axes[1].hist(s, bins=50)\n",
    "    axes[1].set_title('Box Size')\n",
    "    axes[2].scatter(cx, cy)\n",
    "    axes[2].set_title('Center points') # note that opencv images are bottom=640 and top=0, they will appear upside down here\n",
    "    axes[2].set_ylim(bottom=0, top=360)\n",
    "    axes[2].set_xlim(left=0, right=640)\n",
    "    plt.show()\n",
    "    \n",
    "analyze_data(data)"
   ]
  },
  {
   "cell_type": "markdown",
   "metadata": {},
   "source": [
    "We see that not every image has a single label, some have multiple. The sizes of the box we are looking for is also fairly consistent (increasing bin size can tell us even more). Lasty the center points of the bounding boxes are also mostly centered in the image. Is this data a good representation of what the robot will see during a battle?\n",
    "\n",
    "This analysis tells us interesting things about our data set. Although we don't know if the data is actually valid. Next we'll look more closely at the data and try to do some re-labelling"
   ]
  },
  {
   "cell_type": "code",
   "execution_count": 13,
   "metadata": {},
   "outputs": [],
   "source": [
    "new_label = []\n",
    "x1 = None\n",
    "x2 = None\n",
    "y1 = None\n",
    "y2 = None\n",
    "\n",
    "# this labeler is set up to make xmin, xmax : mouse left click down, mouse left click up\n",
    "# and then make ymin max in the same way, Once all four variables are filled it will save\n",
    "# them in new_label. (click the xmin and drag to the xmax then release, repeat for y)\n",
    "# when you mark the new label press q to close the image (do not click the red x).\n",
    "\n",
    "def click_event(event, x, y, flags, param):\n",
    "    global x1, x2, y1, y2, new_label\n",
    "    # on press mark position\n",
    "    if event == cv2.EVENT_LBUTTONDOWN:\n",
    "        print('mouse down')\n",
    "        # Take turns between reading width and height\n",
    "        if x1 is None:\n",
    "            x1 = x\n",
    "        else:\n",
    "            y1 = y\n",
    "\n",
    "    elif event == cv2.EVENT_LBUTTONUP:\n",
    "        print('mouse up')\n",
    "        if x2 is None:\n",
    "            x2 = x\n",
    "        else:\n",
    "            y2 = y\n",
    "            \n",
    "    if not y2 is None:\n",
    "        print('recorded')\n",
    "        new_label.append([(min(x1, x2), min(y1, y2)), (max(x1, x2), max(y1,y2))])\n",
    "        x1 = None\n",
    "        x2 = None\n",
    "        y1 = None\n",
    "        y2 = None\n",
    "        \n",
    "#cv2.namedWindow(\"image\")\n",
    "#cv2.setMouseCallback(\"image\", click_event)\n",
    "\n",
    "sample = data[-1]\n",
    "\n",
    "#buffshow(\"image\", sample[0])\n",
    "#display_annotated((sample[0], new_label))"
   ]
  },
  {
   "cell_type": "markdown",
   "metadata": {},
   "source": [
    "Heres an analytical solution to our clasification task. We use the color channels to guesstimate a threshold for the color, then mask out any part of the image not in this range. The next step is switching to the HSV color space, this allows for more robust color detection. After that we can start playing with crazy combos like a green threshold combined with a HV threshold (HSV not including the V). Keep in mind that masking and thresholding are expensive operations."
   ]
  },
  {
   "cell_type": "code",
   "execution_count": null,
   "metadata": {},
   "outputs": [],
   "source": [
    "image1 = data[-1][0]\n",
    "\n",
    "red_lower = (0,0,100) #bgr for red, lower boundary\n",
    "red_upper = (80,80,255) #bgr for red, upper boundary\n",
    "blue_lower = (100,0,0) #bgr for blue, lower boundary\n",
    "blue_upper = (255,80,80) #bgr for blue, upper boundary\n",
    "\n",
    "red_mask = cv2.inRange(image1, red_lower, red_upper)\n",
    "blue_mask = cv2.inRange(image1, blue_lower, blue_upper)\n",
    "\n",
    "red_output = cv2.bitwise_and(image1, image1, mask=red_mask)\n",
    "blue_output = cv2.bitwise_and(image1, image1, mask=blue_mask)\n",
    "\n",
    "buffshow('red-detect', red_output)\n",
    "buffshow('redmask', red_mask)\n",
    "buffshow('blue-detect', blue_output)"
   ]
  },
  {
   "cell_type": "code",
   "execution_count": null,
   "metadata": {},
   "outputs": [],
   "source": [
    "import tensorflow as tf"
   ]
  },
  {
   "cell_type": "code",
   "execution_count": null,
   "metadata": {},
   "outputs": [],
   "source": [
    "images = []\n",
    "labels = []\n",
    "\n",
    "for item in data:\n",
    "    for img, label in data:\n",
    "        \n",
    "        std_image = tf.image.per_image_standardization(img)\n",
    "        \n",
    "        images.append(std_image)\n",
    "        labels.append(label)\n",
    "    \n",
    "        images.append(img)\n",
    "        labels.append(label)\n",
    "\n",
    "print(images)"
   ]
  },
  {
   "cell_type": "code",
   "execution_count": null,
   "metadata": {},
   "outputs": [],
   "source": []
  }
 ],
 "metadata": {
  "kernelspec": {
   "display_name": "Python 3.7.10",
   "language": "python3",
   "name": "python@3.8.12"
  },
  "language_info": {
   "codemirror_mode": {
    "name": "ipython",
    "version": 3
   },
   "file_extension": ".py",
   "mimetype": "text/x-python",
   "name": "python",
   "nbconvert_exporter": "python",
   "pygments_lexer": "ipython3",
   "version": "3.8.12"
  }
 },
 "nbformat": 4,
 "nbformat_minor": 4
}
